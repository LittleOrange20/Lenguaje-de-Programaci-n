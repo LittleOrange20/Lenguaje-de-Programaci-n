{
  "nbformat": 4,
  "nbformat_minor": 0,
  "metadata": {
    "colab": {
      "provenance": [],
      "authorship_tag": "ABX9TyMUtdBMGv2SPIoZAMcSTKw2",
      "include_colab_link": true
    },
    "kernelspec": {
      "name": "python3",
      "display_name": "Python 3"
    },
    "language_info": {
      "name": "python"
    }
  },
  "cells": [
    {
      "cell_type": "markdown",
      "metadata": {
        "id": "view-in-github",
        "colab_type": "text"
      },
      "source": [
        "<a href=\"https://colab.research.google.com/github/LittleOrange20/Lenguaje-de-Programaci-n/blob/main/VPN.ipynb\" target=\"_parent\"><img src=\"https://colab.research.google.com/assets/colab-badge.svg\" alt=\"Open In Colab\"/></a>"
      ]
    },
    {
      "cell_type": "markdown",
      "source": [
        "## Valor presente neto (VPN)\n",
        "\n",
        "*EXPLICACIÓN*\n",
        "\n",
        "El método del Valor Presente Neto incorpora el valor del dinero en el tiempo en la determinación de los flujos de efectivo netos del negocio o proyecto, con el fin de poder hacer comparaciones correctas entre flujos de efectivo en diferentes periodos a lo largo del tiempo.\n",
        "\n",
        "<p align=\"center\">FORMULA VALOR PRESENTE NETO </p>\n",
        "\n",
        "\n",
        "$$VPN = \\sum_{t=0}^{n} \\frac{F_t}{(1+r)^t}-C_0$$\n",
        "\n",
        "## *Ejercicio para calcular el Valor Presente Neto*\n",
        "\n",
        "Supongamos que la empresa está considerando un proyecto con una inversión inicial de 10,000 y espera recibir flujos de caja de  3,000 en cada uno de los próximos tres años. La tasa de descuento es del 5%.\n",
        "\n",
        "*Paso 2: Cálculo del VPN en Python*\n",
        "\n",
        "**1. Declaración de Variables:**\n",
        "\n",
        "Empieza por declarar las variables que usarás en el cálculo del VPN:\n"
      ],
      "metadata": {
        "id": "JP-cxqjuhJ-k"
      }
    },
    {
      "cell_type": "code",
      "execution_count": 3,
      "metadata": {
        "id": "jOBZ7EAnhABE"
      },
      "outputs": [],
      "source": [
        "inversion_inicial = 10000\n",
        "flujo_año_1 = 3000\n",
        "flujo_año_2 = 3000\n",
        "flujo_año_3 = 3000\n",
        "tasa_descuento = 0.05"
      ]
    },
    {
      "cell_type": "markdown",
      "source": [
        "**2. Cálculo del VPN:**\n",
        "\n",
        "Usa las variables declaradas para calcular el VPN del proyecto:"
      ],
      "metadata": {
        "id": "a1tWI55aoOjP"
      }
    },
    {
      "cell_type": "code",
      "source": [
        "vpn = (flujo_año_1 / (1 + tasa_descuento)**1) + \\\n",
        "      (flujo_año_2 / (1 + tasa_descuento)**2) + \\\n",
        "      (flujo_año_3 / (1 + tasa_descuento)**3) - inversion_inicial\n",
        "print(\"El valor Presente Neto (VPN) es:\", vpn)"
      ],
      "metadata": {
        "colab": {
          "base_uri": "https://localhost:8080/"
        },
        "id": "vER67NvNpGAN",
        "outputId": "f57237e6-e007-41e9-cb6a-7021065db000"
      },
      "execution_count": 4,
      "outputs": [
        {
          "output_type": "stream",
          "name": "stdout",
          "text": [
            "El valor Presente Neto (VPN) es: -1830.2559118885656\n"
          ]
        }
      ]
    },
    {
      "cell_type": "markdown",
      "source": [
        "**3. Interpretación del Resultado:**\n",
        "\n",
        "Una vez realizado el cálculo, interpreta el resultado del VPN para determinar la viabilidad del proyecto:\n"
      ],
      "metadata": {
        "id": "tzNFFUS3qamQ"
      }
    },
    {
      "cell_type": "code",
      "source": [
        "if vpn > 0:\n",
        "  print(\"El proyecto es viable, ya que el VPN es positivo.\")\n",
        "else:\n",
        "  print(\"El proyecto no es viable, ya que el VPN es negativo.\")\n"
      ],
      "metadata": {
        "colab": {
          "base_uri": "https://localhost:8080/"
        },
        "id": "xDqeusX-qnZ5",
        "outputId": "664047b5-67a9-4819-8176-a3c458e0aa89"
      },
      "execution_count": 5,
      "outputs": [
        {
          "output_type": "stream",
          "name": "stdout",
          "text": [
            "El proyecto no es viable, ya que el VPN es negativo.\n"
          ]
        }
      ]
    },
    {
      "cell_type": "markdown",
      "source": [
        "\n",
        "\n",
        "*   Si el valor impreso de vpn es positivo, escribe  que el proyecto es viable.\n",
        "*  Si es negativo, indica que el proyecto no es viable.\n",
        "\n",
        "\n"
      ],
      "metadata": {
        "id": "Sb7RgBa7rI-p"
      }
    }
  ]
}