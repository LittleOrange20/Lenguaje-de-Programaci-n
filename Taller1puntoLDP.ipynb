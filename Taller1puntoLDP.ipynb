{
  "nbformat": 4,
  "nbformat_minor": 0,
  "metadata": {
    "colab": {
      "provenance": [],
      "authorship_tag": "ABX9TyOOtkUvc7a+ZGqOwuOi2C9Y",
      "include_colab_link": true
    },
    "kernelspec": {
      "name": "python3",
      "display_name": "Python 3"
    },
    "language_info": {
      "name": "python"
    }
  },
  "cells": [
    {
      "cell_type": "markdown",
      "metadata": {
        "id": "view-in-github",
        "colab_type": "text"
      },
      "source": [
        "<a href=\"https://colab.research.google.com/github/LittleOrange20/Lenguaje-de-Programaci-n/blob/main/Taller1puntoLDP.ipynb\" target=\"_parent\"><img src=\"https://colab.research.google.com/assets/colab-badge.svg\" alt=\"Open In Colab\"/></a>"
      ]
    },
    {
      "cell_type": "markdown",
      "source": [],
      "metadata": {
        "id": "0DRTWdoELNl6"
      }
    },
    {
      "cell_type": "markdown",
      "source": [
        "##Árbol de calorías\n",
        "\n",
        "Vamos a escribir código que implemente este árbol de decisión e imprima la etiqueta resultante. Utilizaremos este alimento de ejemplo para probar nuestro código"
      ],
      "metadata": {
        "id": "skPtkRrXLimd"
      }
    },
    {
      "cell_type": "code",
      "execution_count": 70,
      "metadata": {
        "id": "H-_nZQCmCO9b"
      },
      "outputs": [],
      "source": [
        "tomate = {\n",
        "    \"tamano_porcion\":125,\n",
        "    \"calorias\":22.5,\n",
        "    \"grasa\":250,\n",
        "    \"sodio\":6.25,\n",
        "    \"azucar\":3.29,\n",
        "    \"fibra\":1.5\n",
        "}"
      ]
    },
    {
      "cell_type": "markdown",
      "source": [
        "## Ejercicio 1"
      ],
      "metadata": {
        "id": "SBrwfJFOL7uH"
      }
    },
    {
      "cell_type": "code",
      "source": [
        "if tomate[\"calorias\"] < 5:\n",
        "    etiqueta_calorias = \"SIN CALORÍAS\"\n",
        "elif tomate[\"calorias\"] < 40:\n",
        "    etiqueta_calorias = \"BAJO EN CALORÍAS\"\n",
        "else:\n",
        "    etiqueta_calorias = None\n",
        "print(etiqueta_calorias)"
      ],
      "metadata": {
        "colab": {
          "base_uri": "https://localhost:8080/"
        },
        "id": "9SdBo7zTL-sl",
        "outputId": "7f4f1166-8c3d-4a13-81dd-fffebdb89bd6"
      },
      "execution_count": 71,
      "outputs": [
        {
          "output_type": "stream",
          "name": "stdout",
          "text": [
            "BAJO EN CALORÍAS\n"
          ]
        }
      ]
    },
    {
      "cell_type": "code",
      "source": [
        "def asignar_etiqueta_calorias(tomate):\n",
        "    if tomate[\"calorias\"] < 5:\n",
        "        etiqueta_calorias = \"SIN CALORÍAS\"\n",
        "    elif tomate[\"calorias\"] < 40:\n",
        "        etiqueta_calorias = \"BAJO EN CALORÍAS\"\n",
        "    else:\n",
        "        etiqueta_calorias = None\n",
        "    print(etiqueta_calorias)"
      ],
      "metadata": {
        "id": "qDsTo232NH4w"
      },
      "execution_count": 72,
      "outputs": []
    },
    {
      "cell_type": "markdown",
      "source": [
        "## Ejercicio 2\n",
        "Prueba la función asignar_etiquetas_calorias() utilizando en su lugar el banano."
      ],
      "metadata": {
        "id": "HkgFobfYPKQJ"
      }
    },
    {
      "cell_type": "code",
      "source": [
        "banano = {\n",
        "    \"tamano_porcion\":28,\n",
        "    \"calorias\":94.1,\n",
        "    \"grasa\":300,\n",
        "    \"sodio\":1.96,\n",
        "    \"azucar\":16,\n",
        "    \"fibra\":0.504\n",
        "}"
      ],
      "metadata": {
        "id": "9-ZsavhJX8Q3"
      },
      "execution_count": 73,
      "outputs": []
    },
    {
      "cell_type": "code",
      "source": [
        "def asignar_etiqueta_calorias(banano):\n",
        "  if banano[\"calorias\"] < 5:\n",
        "    etiqueta_calorias = \"SIN CALORÍAS\"\n",
        "  elif banano[\"calorias\"] < 40:\n",
        "    etiqueta_calorias = \"BAJO EN CALORÍAS\"\n",
        "  else:\n",
        "    etiqueta_calorias = None\n",
        "  print(etiqueta_calorias)"
      ],
      "metadata": {
        "id": "K3gaOWLqPNcH"
      },
      "execution_count": 74,
      "outputs": []
    },
    {
      "cell_type": "markdown",
      "source": [
        "##Ejercicio 3\n",
        "Ejecuta help(asignar_etiqueta_calorias). ¿Qué ves?"
      ],
      "metadata": {
        "id": "cDG_F6RVSSU1"
      }
    },
    {
      "cell_type": "code",
      "source": [
        "def asignar_etiqueta_calorias(tomate):\n",
        "    if tomate[\"calorias\"] < 5:\n",
        "        etiqueta_calorias = \"SIN CALORÍAS\"\n",
        "    elif tomate[\"calorias\"] < 40:\n",
        "        etiqueta_calorias = \"BAJO EN CALORÍAS\"\n",
        "    else:\n",
        "        etiqueta_calorias = None\n",
        "    return etiqueta_calorias\n",
        "    print(etiqueta_calorias)"
      ],
      "metadata": {
        "id": "RHEqVj00SXOs"
      },
      "execution_count": 75,
      "outputs": []
    },
    {
      "cell_type": "code",
      "source": [
        "def asignar_etiqueta_calorias(banano):\n",
        "    if banano[\"calorias\"] < 5:\n",
        "        etiqueta_calorias = \"SIN CALORÍAS\"\n",
        "    elif banano[\"calorias\"] < 40:\n",
        "        etiqueta_calorias = \"BAJO EN CALORÍAS\"\n",
        "    else:\n",
        "        etiqueta_calorias = None\n",
        "    return etiqueta_calorias\n",
        "    print(etiqueta_calorias)"
      ],
      "metadata": {
        "id": "wmosyYPcZxI1"
      },
      "execution_count": 76,
      "outputs": []
    },
    {
      "cell_type": "code",
      "source": [],
      "metadata": {
        "id": "_YJHHC6plx0m"
      },
      "execution_count": null,
      "outputs": []
    },
    {
      "cell_type": "code",
      "source": [
        "etiqueta_calorias_tomate = asignar_etiqueta_calorias(tomate)\n",
        "etiqueta_calorias_banano = asignar_etiqueta_calorias(banano)\n",
        "print(\"La Etiqueta para tomate es\", etiqueta_calorias_tomate)\n",
        "print(\"Y la Etiqueta para banano es\", etiqueta_calorias_banano)"
      ],
      "metadata": {
        "colab": {
          "base_uri": "https://localhost:8080/"
        },
        "id": "Nm0VI2HfWFMJ",
        "outputId": "ded207dd-217d-4be9-c485-10fef7d5cead"
      },
      "execution_count": 78,
      "outputs": [
        {
          "output_type": "stream",
          "name": "stdout",
          "text": [
            "La Etiqueta para tomate es BAJO EN CALORÍAS\n",
            "Y la Etiqueta para banano es None\n"
          ]
        }
      ]
    },
    {
      "cell_type": "markdown",
      "source": [
        "##Ejercicio 4\n",
        "Crea la función asignar_etiqueta_grasa() para implementar este árbol de decisión."
      ],
      "metadata": {
        "id": "DNxl43J8wrNg"
      }
    },
    {
      "cell_type": "code",
      "source": [
        "tomate = {\n",
        "    \"tamano_porcion\":125,\n",
        "    \"calorias\":22.5,\n",
        "    \"grasa\":250, # En miligramos\n",
        "    \"sodio\":6.25,\n",
        "    \"azucar\":3.29,\n",
        "    \"fibra\":1.5\n",
        "}\n",
        "if tomate[\"grasa\"] < 500: # En miligramos\n",
        "  etiqueta_grasa = \"LIBRE DE GRASA\"\n",
        "elif tomate[\"grasa\"] < 300: # En miligramos\n",
        "  etiqueta_grasa = \"BAJA EN GRASA\"\n",
        "else:\n",
        "  etiqueta_grasa = None\n",
        "print(etiqueta_grasa)"
      ],
      "metadata": {
        "colab": {
          "base_uri": "https://localhost:8080/"
        },
        "id": "S8STXWfioo_Q",
        "outputId": "b5378f07-aacb-4c05-a432-766119a6f36a"
      },
      "execution_count": 82,
      "outputs": [
        {
          "output_type": "stream",
          "name": "stdout",
          "text": [
            "LIBRE DE GRASA\n"
          ]
        }
      ]
    },
    {
      "cell_type": "code",
      "source": [
        "banano = {\n",
        "    \"tamano_porcion\":28,\n",
        "    \"calorias\":94.1,\n",
        "    \"grasa\":300,\n",
        "    \"sodio\":1.96,\n",
        "    \"azucar\":16,\n",
        "    \"fibra\":0.504\n",
        "}\n",
        "if banano[\"grasa\"] < 500:\n",
        "  etiqueta_grasa = \"LIBRE DE GRASA\"\n",
        "elif banano[\"grasa\"] < 300:\n",
        "  etiqueta_grasa = \"BAJA EN GRASA\"\n",
        "else:\n",
        "  etiqueta_grasa = None\n",
        "print(etiqueta_grasa)"
      ],
      "metadata": {
        "colab": {
          "base_uri": "https://localhost:8080/"
        },
        "id": "V9uDl2Zexm-m",
        "outputId": "6c0b5ee9-8e33-42c1-b549-10441a0673a6"
      },
      "execution_count": 83,
      "outputs": [
        {
          "output_type": "stream",
          "name": "stdout",
          "text": [
            "LIBRE DE GRASA\n"
          ]
        }
      ]
    },
    {
      "cell_type": "markdown",
      "source": [
        "##Ejercicio 5\n",
        "Modifica la función asignar_etiqueta_grasa() para utilizar gramos en lugar de miligramos en los condicionales."
      ],
      "metadata": {
        "id": "4qAGxjgVx3iz"
      }
    },
    {
      "cell_type": "code",
      "source": [
        "tomate = {\n",
        "    \"tamano_porcion\":125,\n",
        "    \"calorias\":22.5,\n",
        "    \"grasa\":0.25, # En gramos\n",
        "    \"sodio\":6.25,\n",
        "    \"azucar\":3.29,\n",
        "    \"fibra\":1.5\n",
        "}\n",
        "if tomate[\"grasa\"] < 0.5: # En gramos\n",
        "  etiqueta_grasa = \"LIBRE DE GRASA\"\n",
        "elif tomate[\"grasa\"] < 0.3: # En gramos\n",
        "  etiqueta_grasa = \"BAJA EN GRASA\"\n",
        "else:\n",
        "  etiqueta_grasa = None\n",
        "print(etiqueta_grasa)"
      ],
      "metadata": {
        "colab": {
          "base_uri": "https://localhost:8080/"
        },
        "id": "NQsg-RXyx5Ov",
        "outputId": "b6704264-f83e-463a-ff2a-05f2ce31dabe"
      },
      "execution_count": 84,
      "outputs": [
        {
          "output_type": "stream",
          "name": "stdout",
          "text": [
            "LIBRE DE GRASA\n"
          ]
        }
      ]
    },
    {
      "cell_type": "code",
      "source": [
        "banano = {\n",
        "    \"tamano_porcion\":28,\n",
        "    \"calorias\":94.1,\n",
        "    \"grasa\":0.3,\n",
        "    \"sodio\":1.96,\n",
        "    \"azucar\":16,\n",
        "    \"fibra\":0.504\n",
        "}\n",
        "if banano[\"grasa\"] < 0.5:\n",
        "  etiqueta_grasa = \"LIBRE DE GRASA\"\n",
        "elif banano[\"grasa\"] < 0.3:\n",
        "  etiqueta_grasa = \"BAJA EN GRASA\"\n",
        "else:\n",
        "  etiqueta_grasa = None\n",
        "print(etiqueta_grasa)"
      ],
      "metadata": {
        "colab": {
          "base_uri": "https://localhost:8080/"
        },
        "id": "4TE0WLg9zpKF",
        "outputId": "cd0234e8-010b-47eb-b2c1-41383398c679"
      },
      "execution_count": 85,
      "outputs": [
        {
          "output_type": "stream",
          "name": "stdout",
          "text": [
            "LIBRE DE GRASA\n"
          ]
        }
      ]
    },
    {
      "cell_type": "markdown",
      "source": [
        "##Añadiendo las etiquetas del contenido de azúcar\n"
      ],
      "metadata": {
        "id": "3Afze7xY0gqN"
      }
    },
    {
      "cell_type": "code",
      "source": [
        "azucar = {\n",
        "    \"tamano_porcion\":28,\n",
        "    \"calorias\":94.1,\n",
        "    \"grasa\":0.3,\n",
        "    \"sodio\":1.96,\n",
        "    \"azucar\":0.4,\n",
        "    \"fibra\":0.504\n",
        "}\n",
        "def asignar_etiqueta_azucar(azucar):\n",
        "    if azucar[\"azucar\"] < 0.5:\n",
        "        etiqueta_azucar = \"LIBRE DE AZÚCAR\"\n",
        "    else:\n",
        "        etiqueta_azucar = None\n",
        "    return etiqueta_azucar\n",
        "print(asignar_etiqueta_azucar(azucar))"
      ],
      "metadata": {
        "colab": {
          "base_uri": "https://localhost:8080/"
        },
        "id": "gnz4nW4E0jpe",
        "outputId": "4f521d88-8e27-4e1a-92ca-cab945c4bd77"
      },
      "execution_count": 90,
      "outputs": [
        {
          "output_type": "stream",
          "name": "stdout",
          "text": [
            "LIBRE DE AZÚCAR\n"
          ]
        }
      ]
    },
    {
      "cell_type": "code",
      "source": [
        "print(asignar_etiqueta_azucar(banano))"
      ],
      "metadata": {
        "colab": {
          "base_uri": "https://localhost:8080/"
        },
        "id": "bdpmoqcq1hfr",
        "outputId": "803d5811-d364-4ca0-ae2b-358806110916"
      },
      "execution_count": 89,
      "outputs": [
        {
          "output_type": "stream",
          "name": "stdout",
          "text": [
            "None\n"
          ]
        }
      ]
    },
    {
      "cell_type": "code",
      "source": [
        "print(asignar_etiqueta_azucar(tomate))"
      ],
      "metadata": {
        "colab": {
          "base_uri": "https://localhost:8080/"
        },
        "id": "dcQb1QHp1smH",
        "outputId": "301e4268-6c00-4fd4-997e-a0ca4892e514"
      },
      "execution_count": 91,
      "outputs": [
        {
          "output_type": "stream",
          "name": "stdout",
          "text": [
            "None\n"
          ]
        }
      ]
    },
    {
      "cell_type": "code",
      "source": [
        "print(asignar_etiqueta_azucar(azucar))"
      ],
      "metadata": {
        "colab": {
          "base_uri": "https://localhost:8080/"
        },
        "id": "ypSVUmJ410au",
        "outputId": "9e984394-ad82-4a35-a739-73378943be90"
      },
      "execution_count": 92,
      "outputs": [
        {
          "output_type": "stream",
          "name": "stdout",
          "text": [
            "LIBRE DE AZÚCAR\n"
          ]
        }
      ]
    }
  ]
}