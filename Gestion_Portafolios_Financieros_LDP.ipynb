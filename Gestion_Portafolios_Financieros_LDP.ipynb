{
  "nbformat": 4,
  "nbformat_minor": 0,
  "metadata": {
    "colab": {
      "provenance": [],
      "authorship_tag": "ABX9TyNNVKEQMiheAdYIRSwnvOl2",
      "include_colab_link": true
    },
    "kernelspec": {
      "name": "python3",
      "display_name": "Python 3"
    },
    "language_info": {
      "name": "python"
    }
  },
  "cells": [
    {
      "cell_type": "markdown",
      "metadata": {
        "id": "view-in-github",
        "colab_type": "text"
      },
      "source": [
        "<a href=\"https://colab.research.google.com/github/LittleOrange20/Lenguaje-de-Programaci-n/blob/main/Gestion_Portafolios_Financieros_LDP.ipynb\" target=\"_parent\"><img src=\"https://colab.research.google.com/assets/colab-badge.svg\" alt=\"Open In Colab\"/></a>"
      ]
    },
    {
      "cell_type": "code",
      "execution_count": 159,
      "metadata": {
        "id": "2c-dWXvb9HGI",
        "colab": {
          "base_uri": "https://localhost:8080/"
        },
        "collapsed": true,
        "outputId": "6281e78b-1c3f-4a67-c467-7b2d02ad620e"
      },
      "outputs": [
        {
          "output_type": "stream",
          "name": "stdout",
          "text": [
            "['Juan Perez', 'Maria Rodriguez', 'Carlos Lopez', 'Ana Gomez']\n",
            "[10000, 15000, 20000, 18000]\n",
            "[5.5, 6.0, 4.0, 7.5]\n"
          ]
        }
      ],
      "source": [
        "# Listas para almacenar informacion de clientes\n",
        "clientes = [\"Juan Perez\", \"Maria Rodriguez\", \"Carlos Lopez\", \"Ana Gomez\"]\n",
        "print(clientes)\n",
        "monto_invertido = [10000, 15000, 20000, 18000]\n",
        "print(monto_invertido)\n",
        "rendimiento = [5.5, 6.0, 4.0, 7.5]\n",
        "print(rendimientos)"
      ]
    },
    {
      "cell_type": "code",
      "source": [
        "# Tupla para contener la informacion de cada cliente\n",
        "cliente_1 = (\"Juan Perez\", 10000, 5.5)\n",
        "print(cliente_1)\n",
        "cliente_2 = (\"Maria Rodriguez\", 15000, 6.0)\n",
        "print(cliente_2)\n",
        "cliente_3 = (\"Carlos Lopez\", 20000, 4.0)\n",
        "print(cliente_3)\n",
        "cliente_4 = (\"Ana Gomez\", 18000, 7.5)\n",
        "print(cliente_4)"
      ],
      "metadata": {
        "id": "HMVkZv1nAPYx",
        "colab": {
          "base_uri": "https://localhost:8080/"
        },
        "collapsed": true,
        "outputId": "28d9d75d-ded8-47f7-e73a-1f52d5e0f4aa"
      },
      "execution_count": 160,
      "outputs": [
        {
          "output_type": "stream",
          "name": "stdout",
          "text": [
            "('Juan Perez', 10000, 5.5)\n",
            "('Maria Rodriguez', 15000, 6.0)\n",
            "('Carlos Lopez', 20000, 4.0)\n",
            "('Ana Gomez', 18000, 7.5)\n"
          ]
        }
      ]
    },
    {
      "cell_type": "code",
      "source": [
        "# Uso de Diccionarios, Condicionales y Calculos con ciclos\n",
        "Portafolio = {\n",
        "    \"Juan Perez\": { \"monto_invertido\": 10000, \"rendimiento\":5.5},\n",
        "    \"Maria Rodriguez\": { \"monto_invertido\": 15000, \"rendimiento\":6.0},\n",
        "    \"Carlos Lopez\": { \"monto_invertido\": 20000, \"rendimiento\":4.0},\n",
        "    \"Ana Gomez\": { \"monto_invertido\": 18000, \"rendimiento\":7.5}\n",
        "}\n",
        "print(Portafolio)"
      ],
      "metadata": {
        "colab": {
          "base_uri": "https://localhost:8080/"
        },
        "id": "dAAaMMKJD_GJ",
        "outputId": "293c5518-12ea-42e3-90e1-cd0e626b216d",
        "collapsed": true
      },
      "execution_count": 161,
      "outputs": [
        {
          "output_type": "stream",
          "name": "stdout",
          "text": [
            "{'Juan Perez': {'monto_invertido': 10000, 'rendimiento': 5.5}, 'Maria Rodriguez': {'monto_invertido': 15000, 'rendimiento': 6.0}, 'Carlos Lopez': {'monto_invertido': 20000, 'rendimiento': 4.0}, 'Ana Gomez': {'monto_invertido': 18000, 'rendimiento': 7.5}}\n"
          ]
        }
      ]
    },
    {
      "cell_type": "code",
      "source": [
        "for cliente, datos in Portafolio.items():\n",
        "    if datos[\"rendimiento\"] > 5 :\n",
        "      print(f\"{cliente} tiene un rendimiento de {datos['rendimiento']}%\")"
      ],
      "metadata": {
        "colab": {
          "base_uri": "https://localhost:8080/"
        },
        "collapsed": true,
        "id": "fVkWFfM45R-K",
        "outputId": "a1528dfc-5d22-4a20-9169-964b8dc37e16"
      },
      "execution_count": 162,
      "outputs": [
        {
          "output_type": "stream",
          "name": "stdout",
          "text": [
            "Juan Perez tiene un rendimiento de 5.5%\n",
            "Maria Rodriguez tiene un rendimiento de 6.0%\n",
            "Ana Gomez tiene un rendimiento de 7.5%\n"
          ]
        }
      ]
    },
    {
      "cell_type": "code",
      "source": [
        "rendimiento_total = 0\n",
        "for cliente, datos in Portafolio.items():\n",
        "    rendimiento_cliente = (datos[\"monto_invertido\"] * datos[\"rendimiento\"]) / 100\n",
        "    rendimiento_total += rendimiento_cliente\n",
        "print(f\"El rendimiento total del portafolio es: ${rendimiento_total:.2f}\")"
      ],
      "metadata": {
        "colab": {
          "base_uri": "https://localhost:8080/"
        },
        "id": "ajrkR0yB7G14",
        "outputId": "4bfdba41-270d-48de-a333-ab9f5180d539"
      },
      "execution_count": 163,
      "outputs": [
        {
          "output_type": "stream",
          "name": "stdout",
          "text": [
            "El rendimiento total del portafolio es: $3600.00\n"
          ]
        }
      ]
    },
    {
      "cell_type": "code",
      "source": [
        "mayor_rendimiento = float('-inf')\n",
        "mayor_cliente = \"\"\n",
        "for cliente, datos in Portafolio.items():\n",
        "    rendimiento_absoluto = datos[\"monto_invertido\"] * (datos[\"rendimiento\"] / 100)\n",
        "    if rendimiento_absoluto > mayor_rendimiento:\n",
        "        mayor_rendimiento = rendimiento_absoluto\n",
        "        mejor_cliente = cliente\n",
        "print(f\"El cliente con mayor rendimiento absoluto es {mayor_cliente} con un rendimiento de ${mayor_rendimiento:.2f}.\")"
      ],
      "metadata": {
        "colab": {
          "base_uri": "https://localhost:8080/"
        },
        "id": "rjnACNfS9iw9",
        "outputId": "571e6680-900c-4e6b-9348-34f4fa212223"
      },
      "execution_count": 164,
      "outputs": [
        {
          "output_type": "stream",
          "name": "stdout",
          "text": [
            "El cliente con mayor rendimiento absoluto es  con un rendimiento de $1350.00.\n"
          ]
        }
      ]
    },
    {
      "cell_type": "code",
      "source": [
        "# Modificaciones del Portafolio\n",
        "monto_invertido = 25000\n",
        "for cliente, datos in Portafolio.items():\n",
        "  if cliente == \"Carlos Lopez\":\n",
        "    datos[\"monto_invertido\"] = monto_invertido\n",
        "print(f\"El monto invertido actualizado de Carlos Lopez es de $ {monto_invertido}\")"
      ],
      "metadata": {
        "colab": {
          "base_uri": "https://localhost:8080/"
        },
        "id": "3pDNF3M9UWRO",
        "outputId": "07aaa432-720d-4b02-ad60-fb75aaee1791"
      },
      "execution_count": 165,
      "outputs": [
        {
          "output_type": "stream",
          "name": "stdout",
          "text": [
            "El monto invertido actualizado de Carlos Lopez es de $ 25000\n"
          ]
        }
      ]
    },
    {
      "cell_type": "code",
      "source": [
        "nuevo_cliente = \"Laura Fernandez\"\n",
        "nuevo_monto_invertido = 22000\n",
        "nuevo_rendimiento = 6.8\n",
        "Portafolio[nuevo_cliente] = {\"monto_invertido\": nuevo_monto_invertido, \"rendimiento\": nuevo_rendimiento}\n",
        "print(f\"El cliente {nuevo_cliente} ha sido añadido al Portafolio con un monto invertido de $ {nuevo_monto_invertido} y con un rendimiento de {nuevo_rendimiento}%.\")\n"
      ],
      "metadata": {
        "colab": {
          "base_uri": "https://localhost:8080/"
        },
        "id": "BeCtbHUxUavY",
        "outputId": "9101f0b8-dea8-418b-a875-fc829cb58a5d"
      },
      "execution_count": 166,
      "outputs": [
        {
          "output_type": "stream",
          "name": "stdout",
          "text": [
            "El cliente Laura Fernandez ha sido añadido al Portafolio con un monto invertido de $ 22000 y con un rendimiento de 6.8%.\n"
          ]
        }
      ]
    },
    {
      "cell_type": "code",
      "source": [
        "eliminar_cliente = \"Ana Gomez\"\n",
        "if eliminar_cliente in Portafolio:\n",
        "    del Portafolio[eliminar_cliente]\n",
        "    print(f\"El cliente {eliminar_cliente} ha sido eliminado del Portafolio.\")\n",
        "else:\n",
        "    print(f\"El cliente {eliminar_cliente} no se encuentra en el Portafolio.\")"
      ],
      "metadata": {
        "colab": {
          "base_uri": "https://localhost:8080/"
        },
        "id": "zhq_r-g6Y_bc",
        "outputId": "24046a14-21dc-46c5-993d-bb84cf23eb1a"
      },
      "execution_count": 200,
      "outputs": [
        {
          "output_type": "stream",
          "name": "stdout",
          "text": [
            "El cliente Ana Gomez no se encuentra en el Portafolio.\n"
          ]
        }
      ]
    }
  ]
}