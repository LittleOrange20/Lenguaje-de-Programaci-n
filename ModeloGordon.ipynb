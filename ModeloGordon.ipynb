{
  "nbformat": 4,
  "nbformat_minor": 0,
  "metadata": {
    "colab": {
      "provenance": [],
      "authorship_tag": "ABX9TyM5FsWMNpV4PFQBMbB5BGMj",
      "include_colab_link": true
    },
    "kernelspec": {
      "name": "python3",
      "display_name": "Python 3"
    },
    "language_info": {
      "name": "python"
    }
  },
  "cells": [
    {
      "cell_type": "markdown",
      "metadata": {
        "id": "view-in-github",
        "colab_type": "text"
      },
      "source": [
        "<a href=\"https://colab.research.google.com/github/LittleOrange20/Lenguaje-de-Programaci-n/blob/main/ModeloGordon.ipynb\" target=\"_parent\"><img src=\"https://colab.research.google.com/assets/colab-badge.svg\" alt=\"Open In Colab\"/></a>"
      ]
    },
    {
      "cell_type": "markdown",
      "source": [
        "##¿Qué es el Modelo de Gordon?\n",
        "\n",
        "El Modelo de Gordon es un método para valorar a las empresas o, mejor dicho, para calcular el precio de la acción de una compañía que cotiza en bolsa. Es un método económico que parte de la premisa de que el aumento de los dividendos de una empresa es constantes. Así, el precio de una acción debe ser igual al precio de los dividendos que va a pagar la empresa a los accionistas descontando el valor neto de ese momento.\n",
        "\n",
        "## ¿Cómo se calcula el Modelo de Gordon?\n",
        "El Modelo de crecimiento constante del dividendo (\"constant growth DDM\") o modelo de Gordon considera que, si el dividendo tiene una tasa de crecimiento constante, el valor de una acción vendrá determinado por la siguiente expresión:\n",
        "\n",
        "$$ V (0) = D (1) / K (e) - g $$\n",
        "\n",
        "La anterior fórmula está derivada de las matemáticas financieras y es la utilizada para calcular el valor presente de una renta periódica perpetua de una cuantía D (1), creciente geométricamente a una tasa g, y descontada a un tipo K. En nuestro caso, V (0) es el valor estimado de una compañía, D (1) es el dividendo esperado del año siguiente, K es el coste de los recursos propios de la compañía considerada y g es su tasa perpetua de crecimiento de los dividendos.\n",
        "\n",
        "También se puede calcular de la siguiente manera:\n",
        "\n",
        "Valor actual = dividendo en el año / rentabilidad esperada de las acciones – crecimiento esperado del dividendo\n",
        "\n",
        "## ¿Cómo se interpreta?\n",
        "Si bien es importante conocer qué es el Modelo de Gordon y cómo se calcula, es igual de importante saber cómo leer el dato que obtengamos después de hacer esta fórmula. Así las cosas, si el precio que obtenemos después de hacer el cálculo es inferior al precio en el que está cotizando la acción, quiere decir que la compañía está sobrevalorada por el mercado. Algo que se puede deber a las expectativas que hay sobre ella.\n",
        "\n",
        "Mientras que, si el precio que obtenemos después de realizar la fórmula es superior al precio real de la acción, entonces la compañía está infravalorada y puede ser una buena oportunidad de inversión según la filosofía ‘value’. Así, el Modelo de Gordon, también llamado Modelo de Gordon-Saphiro, debido a la participación de Eli Saphiro para encontrar esta fórmula en 1956, es habitualmente utilizado para los inversores en valor. Esta filosofía de inversión, seguida por grandes economistas e inversores como Warren Buffet, se basa en comprar empresas que están infravaloradas por el mercado, pero que son buenos negocios. Así, es una buena fórmula para conocer si la empresa que queremos invertir está sobrevalorada, y en qué nivel lo está, o si está infravalorada.\n",
        "\n",
        "## *Consideraciones*\n",
        "Ahora bien, como es complicado estimar cuál será el crecimiento de los dividendos de una empresa en el año o años siguientes, este modelo parte de la premisa que cada año será igual que el anterior más un ligero aumento. Este aumento se considera constante en el tiempo. Por tanto, podríamos sacar así una evolución que podría tener el precio de la acción a lo largo del tiempo.\n",
        "\n",
        "Sin embargo, es un modelo que, aunque es muy utilizado para valorar a las empresas, tiene algunos problemas, ya que parte de premisas como que los dividendos serán constantes y aumentarán con el tiempo. Además, de asumir que estos, los dividendos, son la manera en la que los accionistas miden la riqueza de una acción. Por tanto, estos son algunos problemas que presenta este modelo económico de valoración de empresas. Sin embargo, lo podemos utilizar en todas aquellas compañías que queramos o consideremos invertir para establecer si el mercado las tiene sobrevaloradas o infravaloradas. En cuyo caso, tendríamos que saber luego porqué tienen esta valoración, que puede deberse a las perspectivas de la empresa o del sector.\n",
        "\n",
        "\n",
        "## Formula Gordon ##\n",
        "\n",
        "\n",
        "![Modelo Gordon](https://www.is-lm.com/wp-content/uploads/2013/08/formula.jpg)\n",
        "\n",
        "##***Formula MODELO GORDON***\n",
        "\n",
        "$$P0=\\frac{D1}{r-g}$$\n",
        "\n",
        "Donde:\n",
        "*  P0= precio actual de la accion\n",
        "*  D1= dividendo esperado\n",
        "*  r= Tasa de descuento\n",
        "*  g= Tasa de crecimiento de dividendos\n",
        "\n"
      ],
      "metadata": {
        "id": "SuwKPaJEbid7"
      }
    },
    {
      "cell_type": "markdown",
      "source": [
        "*Ejercicio Práctico:* Valoración de una Acción con el Modelo de Gordon\n",
        "\n",
        "Contexto\n",
        "\n",
        "La empresa Inversiones Sol S.A. paga dividendos a sus accionistas y se espera que estos crezcan a una tasa constante. Un inversionista desea calcular el precio teórico de la acción utilizando el modelo de Gordon.\n",
        "Datos del ejercicio.\n",
        "\n",
        "\n",
        "*   Dividendo esperado (D1): $5.00 por acción\n",
        "*   Tasa de descuento (r): 12% anual\n",
        "*   Tasa de crecimiento de dividendos (g): 4% anual\n",
        "\n",
        "*Pregunta:*\n",
        "\n",
        "¿A qué precio debería cotizarse la acción en el mercado según el modelo de Gordon?\n",
        "\n",
        "\n",
        "\n",
        "\n"
      ],
      "metadata": {
        "id": "8r1j_ydOzyzR"
      }
    },
    {
      "cell_type": "code",
      "source": [
        "# Definimos las variables para el modelo de Gordon\n",
        "D1 = 5    # Dividendo esperado (D1)\n",
        "r = 0.12  # Tasa de descuento (r)\n",
        "g = 0.04  # Tasa de crecimiento de dividendos (g)\n"
      ],
      "metadata": {
        "id": "zxLj4yMH3FH7"
      },
      "execution_count": 12,
      "outputs": []
    },
    {
      "cell_type": "code",
      "source": [
        "# Calculamos el precio actual de la acción utilizando la fórmula de Gordon\n",
        "P0 = D1 / (r - g)"
      ],
      "metadata": {
        "id": "UKgDehlYEN93"
      },
      "execution_count": 13,
      "outputs": []
    },
    {
      "cell_type": "code",
      "source": [
        "# Imprimimos el resultado\n",
        "print(f\"El precio actual de la acción es: ${P0:.2f}\")"
      ],
      "metadata": {
        "colab": {
          "base_uri": "https://localhost:8080/"
        },
        "id": "EPU3kR3oEPJa",
        "outputId": "61d4118a-931a-4010-cb48-56fadfb31f87"
      },
      "execution_count": 23,
      "outputs": [
        {
          "output_type": "stream",
          "name": "stdout",
          "text": [
            "El precio actual de la acción es: $62.50\n"
          ]
        }
      ]
    },
    {
      "cell_type": "code",
      "source": [
        "print(\"El precio que deberia cotizarse en el mercado 62.50, P0 = 62.50\")"
      ],
      "metadata": {
        "colab": {
          "base_uri": "https://localhost:8080/"
        },
        "id": "YFwxfsQvEagG",
        "outputId": "53556de7-d247-476d-b3c4-d85cffaf4029"
      },
      "execution_count": 21,
      "outputs": [
        {
          "output_type": "stream",
          "name": "stdout",
          "text": [
            "El precio que deberia cotizarse en el mercado 62.50, P0 = 62.50\n"
          ]
        }
      ]
    },
    {
      "cell_type": "code",
      "source": [
        "if D1 < P0:\n",
        "  print(\"La acción tiene un mayor valor\")\n",
        "else:\n",
        "  print(\"La acción tiene un menor valor\")"
      ],
      "metadata": {
        "colab": {
          "base_uri": "https://localhost:8080/"
        },
        "id": "RjTEc3MAFw1A",
        "outputId": "2721b6d0-c6b4-48ac-d766-66a5c7b1d58d"
      },
      "execution_count": 18,
      "outputs": [
        {
          "output_type": "stream",
          "name": "stdout",
          "text": [
            "La acción tiene un mayor valor\n"
          ]
        }
      ]
    }
  ]
}